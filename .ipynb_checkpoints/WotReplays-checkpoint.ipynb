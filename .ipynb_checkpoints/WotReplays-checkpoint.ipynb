{
 "cells": [
  {
   "cell_type": "code",
   "execution_count": 3,
   "id": "c02fecd3",
   "metadata": {},
   "outputs": [],
   "source": [
    "import os\n",
    "import time\n",
    "import pandas as pd\n",
    "from selenium import webdriver\n",
    "from selenium.webdriver.common.by import By\n",
    "from selenium.webdriver.firefox.options import Options"
   ]
  },
  {
   "cell_type": "code",
   "execution_count": 8,
   "id": "704fe460",
   "metadata": {},
   "outputs": [
    {
     "name": "stdout",
     "output_type": "stream",
     "text": [
      "65.0 minutes 28.10106086730957 seconds\n"
     ]
    }
   ],
   "source": [
    "start_time = time.time()\n",
    "# FILE OPENING\n",
    "if not os.path.exists('wotreplays.csv'):  # if file doesn`t exist\n",
    "    pd.DataFrame(columns=['replay_№',     # headers\n",
    "                          'target',\n",
    "                          'ally1', 'ally2', 'ally3', 'ally4', 'ally5',\n",
    "                          'ally6', 'ally7', 'ally8', 'ally9', 'ally10',\n",
    "                          'ally11', 'ally12', 'ally13', 'ally14', 'ally15', \n",
    "                          'enemy1', 'enemy2', 'enemy3', 'enemy4', 'enemy5',\n",
    "                          'enemy6', 'enemy7', 'enemy8', 'enemy9', 'enemy10',\n",
    "                          'enemy11', 'enemy12', 'enemy13', 'enemy14', 'enemy15']).to_csv('wotreplays.csv', \n",
    "                                                                                         index=False)\n",
    "    last_replay = 14032334  # http://wotreplays.ru/site/{last_replay}\n",
    "    \n",
    "else:  # if file already exists\n",
    "    df = pd.read_csv('wotreplays.csv')\n",
    "    last_replay = df['replay_№'].iloc[-1]\n",
    "    \n",
    "    \n",
    "# START\n",
    "options = Options()\n",
    "options.headless = True\n",
    "driver = webdriver.Firefox(options=options)  # driver\n",
    "\n",
    "limit = 1000  # total replays\n",
    "progress = 0  # \n",
    "\n",
    "while limit - progress:\n",
    "    try:  # if page exists\n",
    "        driver.get(f'http://wotreplays.ru/site/{last_replay - progress}')  # web page\n",
    "        target = driver.find_element(By.CLASS_NAME, 'replay-stats__title').text  # 'Победа', 'Ничья', 'Поражение'\n",
    "        driver.find_element(By.ID, 'teams').click()  # click to teams table page\n",
    "        teams_tanks = [last_replay - progress, target]  # list of tanks\n",
    "        for team in driver.find_elements(By.CLASS_NAME, 'team-table__body'):  # extract team`s tanks\n",
    "            teams_tanks.extend([x.text for x in team.find_elements(By.CLASS_NAME, 'team-table__tank')])\n",
    "            \n",
    "    except:  # if page error\n",
    "        progress += 1\n",
    "        continue\n",
    "        \n",
    "    if len(teams_tanks) == 32:  # drop non-classic battles\n",
    "        data = pd.DataFrame(data=[teams_tanks])  # list to df\n",
    "        data.to_csv('wotreplays.csv',            # saving to file\n",
    "                    mode='a', \n",
    "                    index=False, \n",
    "                    header=False)\n",
    "        \n",
    "    progress += 1\n",
    "    \n",
    "# STOP\n",
    "driver.close()\n",
    "print(f'{(time.time() - start_time) // 60} minutes {(time.time() - start_time) % 60} seconds')"
   ]
  },
  {
   "cell_type": "code",
   "execution_count": null,
   "id": "60edd4d8",
   "metadata": {},
   "outputs": [],
   "source": []
  }
 ],
 "metadata": {
  "kernelspec": {
   "display_name": "Python 3 (ipykernel)",
   "language": "python",
   "name": "python3"
  },
  "language_info": {
   "codemirror_mode": {
    "name": "ipython",
    "version": 3
   },
   "file_extension": ".py",
   "mimetype": "text/x-python",
   "name": "python",
   "nbconvert_exporter": "python",
   "pygments_lexer": "ipython3",
   "version": "3.8.10"
  }
 },
 "nbformat": 4,
 "nbformat_minor": 5
}
